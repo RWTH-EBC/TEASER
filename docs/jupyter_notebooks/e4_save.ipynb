{
    "cells": [
        {
            "cell_type": "markdown",
            "metadata": {},
            "source": "# Example 4: Save information\nThis module contains an example how to save buildings from a TEASER\nproject to json and pickle in order to save information.\nYou can run this example using the [jupyter-notebook](https://mybinder.org/v2/gh/RWTH-EBC/TEASER/master?labpath=docs%2Fjupyter_notebooks)\n"
        },
        {
            "cell_type": "code",
            "execution_count": null,
            "metadata": {},
            "outputs": [],
            "source": "import teaser.examples.e1_generate_archetype as e1\nimport teaser.logic.utilities as utilities\nimport os\n"
        },
        {
            "cell_type": "markdown",
            "metadata": {},
            "source": "In e1_generate_archetype we created a Project with three archetype\nbuildings to get this Project we rerun this example\n"
        },
        {
            "cell_type": "code",
            "execution_count": null,
            "metadata": {},
            "outputs": [],
            "source": "prj = e1.example_generate_archetype()\n"
        },
        {
            "cell_type": "markdown",
            "metadata": {},
            "source": "First option is to use TEASERs own json format to save all relevant\ndata into a more or less human readable format. The corresponding\nfunction is called Project().save_project() you can specify a file name\nand a save path. If both are non (as in this case) it will use the\nprojects name and default path in your home folder.\n"
        },
        {
            "cell_type": "code",
            "execution_count": null,
            "metadata": {},
            "outputs": [],
            "source": "prj.save_project(file_name=None, path=None)\n"
        },
        {
            "cell_type": "markdown",
            "metadata": {},
            "source": "Second option is to use pickle from Python Standard Library ,\nwhich will save the whole Python classes and all attributes into a\nbinary file. There is no specific API function for this, but you can\nsimply create an empty file with open() and then use pickle.dump().\nMake sure you specify your path correctly. In this case we want to use\nthe default path of TEASERs output.\n"
        },
        {
            "cell_type": "code",
            "execution_count": null,
            "metadata": {},
            "outputs": [],
            "source": "import pickle\n\npickle_file = os.path.join(utilities.get_default_path(), \"teaser_pickle.p\")\n\npickle.dump(prj, open(pickle_file, \"wb\"))\n"
        }
    ],
    "metadata": {
        "kernelspec": {
            "display_name": "Python 3",
            "language": "python",
            "name": "python3"
        },
        "language_info": {
            "codemirror_mode": {
                "name": "ipython",
                "version": 3
            },
            "file_extension": ".py",
            "mimetype": "text/x-python",
            "name": "python",
            "nbconvert_exporter": "python",
            "pygments_lexer": "ipython3",
            "version": "3.6.4"
        }
    },
    "nbformat": 4,
    "nbformat_minor": 2
}