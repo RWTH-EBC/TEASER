{
    "cells": [
        {
            "cell_type": "markdown",
            "metadata": {},
            "source": "# Example 7: Retrofit buildings\nThis module contains an example that shows how to retrofit all buildings\nin a TEASER project with different setups\nYou can run this example using the [jupyter-notebook](https://mybinder.org/v2/gh/RWTH-EBC/TEASER/master?labpath=docs%2Fjupyter_notebooks)\n"
        },
        {
            "cell_type": "code",
            "execution_count": null,
            "metadata": {},
            "outputs": [],
            "source": "import teaser.examples.e1_generate_archetype as e1\n"
        },
        {
            "cell_type": "markdown",
            "metadata": {},
            "source": "In e1_generate_archetype we created a Project with three archetype\nbuildings to get this Project we rerun this example\n"
        },
        {
            "cell_type": "code",
            "execution_count": null,
            "metadata": {},
            "outputs": [],
            "source": "prj = e1.example_generate_archetype()\n"
        },
        {
            "cell_type": "markdown",
            "metadata": {},
            "source": "To apply simplified retrofit for all buildings in the project we can\nuse Project.retrofit_all_buildings() function. This will retrofit all\nbuilding in the project in following manner:\n1. Replace all window with a new window (default is EnEv window with\nU-Value of XYZ\n2. Add an additional insulation layer to all outer walls (including,\nroof and ground floor). Set the thickness that it corresponds to the\nretrofit standard od the year of retrofit.\nThe year of retrofit has to be specified. In addition, we can set\nthe used window_type and the type of insulation material used.\nAs we have both `iwu`/`bmvbs` and `tabula` typology in our project we need\nto pass all keywords to the function year_of_retrofit, window_type,\nmaterial for `iwu`/`bmvbs` and type_of_retrofit for `tabula`.\n"
        },
        {
            "cell_type": "code",
            "execution_count": null,
            "metadata": {},
            "outputs": [],
            "source": "prj.retrofit_all_buildings(\n    year_of_retrofit=2015,\n    type_of_retrofit=\"adv_retrofit\",\n    window_type='Alu- oder Stahlfenster, Isolierverglasung',\n    material='EPS_perimeter_insulation_top_layer')\n"
        }
    ],
    "metadata": {
        "kernelspec": {
            "display_name": "Python 3",
            "language": "python",
            "name": "python3"
        },
        "language_info": {
            "codemirror_mode": {
                "name": "ipython",
                "version": 3
            },
            "file_extension": ".py",
            "mimetype": "text/x-python",
            "name": "python",
            "nbconvert_exporter": "python",
            "pygments_lexer": "ipython3",
            "version": "3.6.4"
        }
    },
    "nbformat": 4,
    "nbformat_minor": 2
}