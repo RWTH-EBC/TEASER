{
    "cells": [
        {
            "cell_type": "markdown",
            "metadata": {},
            "source": "# Example 2: Export Modelica models for AixLib library using TEASER API\n"
        },
        {
            "cell_type": "markdown",
            "metadata": {},
            "source": "This module contains an example how to export buildings from a TEASER\nproject to ready-to-run simulation models for Modelica library AixLib. These\nmodels will only simulate using Dymola, the reason for this are state\nmachines that are used in one AixLib specific AHU model.\nYou can run this example using the [jupyter-notebook](https://mybinder.org/v2/gh/RWTH-EBC/TEASER/main?labpath=docs%2Fjupyter_notebooks)\n"
        },
        {
            "cell_type": "code",
            "execution_count": null,
            "metadata": {},
            "outputs": [],
            "source": "import teaser.examples.e1_generate_archetype as e1\nimport teaser.logic.utilities as utilities\nimport os\n"
        },
        {
            "cell_type": "markdown",
            "metadata": {},
            "source": "In e1_generate_archetype we created a Project with three archetype\nbuildings to get this Project we rerun this example\n"
        },
        {
            "cell_type": "code",
            "execution_count": null,
            "metadata": {},
            "outputs": [],
            "source": "prj = e1.example_generate_archetype()\n"
        },
        {
            "cell_type": "markdown",
            "metadata": {},
            "source": "To make sure the export is using the desired parameters you should\nalways set model settings in the Project.\nProject().used_library_calc specifies the used Modelica library\nProject().number_of_elements_calc sets the models order\nFor more information on models we'd like to refer you to the docs. By\ndefault TEASER uses a weather file provided in\nteaser.data.input.inputdata.weatherdata. You can use your own weather\nfile by setting Project().weather_file_path. However we will use default\nweather file.\nBe careful: Dymola does not like whitespaces in names and filenames,\nthus we will delete them anyway in TEASER.\n"
        },
        {
            "cell_type": "markdown",
            "metadata": {},
            "source": "for CI testing purpose we set the reference result folder\n"
        },
        {
            "cell_type": "code",
            "execution_count": null,
            "metadata": {},
            "outputs": [],
            "source": "prj.dir_reference_results = utilities.get_full_path(\n    os.path.join(\n        \"examples\",\n        \"examplefiles\",\n        \"ReferenceResults\",\n        \"Dymola\"))\n\nprint(prj.dir_reference_results)\n\nprj.used_library_calc = 'AixLib'\nprj.number_of_elements_calc = 2\nprj.weather_file_path = utilities.get_full_path(\n    os.path.join(\n        \"data\",\n        \"input\",\n        \"inputdata\",\n        \"weatherdata\",\n        \"DEU_BW_Mannheim_107290_TRY2010_12_Jahr_BBSR.mos\"))\n"
        },
        {
            "cell_type": "markdown",
            "metadata": {},
            "source": "To make sure the parameters are calculated correctly we recommend to\nrun calc_all_buildings() function\n"
        },
        {
            "cell_type": "code",
            "execution_count": null,
            "metadata": {},
            "outputs": [],
            "source": "prj.calc_all_buildings()\n"
        },
        {
            "cell_type": "markdown",
            "metadata": {},
            "source": "To export the ready-to-run models simply call Project.export_aixlib().\nYou can specify the path, where the model files should be saved.\nNone means, that the default path in your home directory\nwill be used. If you only want to export one specific building, you can\npass over the internal_id of that building and only this model will be\nexported. In this case we want to export all buildings to our home\ndirectory, thus we are passing over None for both parameters.\n"
        },
        {
            "cell_type": "markdown",
            "metadata": {},
            "source": "We might want not have all data stored in our result file. By defining\nexport_vars as following we can specify which results we want to store\nand define a collection name under which these results are stored. This\nfeature only works with Dymola.\n"
        },
        {
            "cell_type": "code",
            "execution_count": null,
            "metadata": {},
            "outputs": [],
            "source": "export_vars = {\n    \"HeatingDemands\": [\"*multizone.PHeater*\", \"*multizone.PHeatAHU\"],\n    \"CoolingDemands\": [\"*multizone.PCooler*\", \"*multizone.PCoolAHU\"],\n    \"Temperatures\": [\"*multizone.TAir*\", \"*multizone.TRad*\"]\n}\n\npath = prj.export_aixlib(\n    internal_id=None,\n    path=None,\n    report=True,\n    export_vars=export_vars\n)\n"
        }
    ],
    "metadata": {
        "kernelspec": {
            "display_name": "Python 3",
            "language": "python",
            "name": "python3"
        },
        "language_info": {
            "codemirror_mode": {
                "name": "ipython",
                "version": 3
            },
            "file_extension": ".py",
            "mimetype": "text/x-python",
            "name": "python",
            "nbconvert_exporter": "python",
            "pygments_lexer": "ipython3",
            "version": "3.6.4"
        }
    },
    "nbformat": 4,
    "nbformat_minor": 2
}