{
    "cells": [
        {
            "cell_type": "markdown",
            "metadata": {},
            "source": "# Example 13: Direct simulation of Modelica with TEASER, ebcpy, and AixLib\nThis example demonstrates how to export building models using TEASER and simulate them with Dymola.\nYou can not run this example using the online [jupyter-notebook](https://mybinder.org/v2/gh/RWTH-EBC/TEASER/main?labpath=docs%2Fjupyter_notebooks),\nas you need Dymola installed on your device.\n"
        },
        {
            "cell_type": "markdown",
            "metadata": {},
            "source": "## Prerequisites\nTo use this example, you need to install several packages:\n1. ebcpy - For Dymola API interaction (`pip install ebcpy`)\n2. AixLib - A Modelica library for building simulation (https://github.com/RWTH-EBC/AixLib).\n  If not provided, this example will try to clone AixLib using git.\n\nYou also need Dymola installed on your system to run the simulations.\n"
        },
        {
            "cell_type": "markdown",
            "metadata": {},
            "source": "First, we export the same archetypes as in `e2_export_aixlib_models`\n"
        },
        {
            "cell_type": "code",
            "execution_count": null,
            "metadata": {},
            "outputs": [],
            "source": "from teaser.examples.e2_export_aixlib_models import example_export_aixlib\npath_export = example_export_aixlib()\n"
        },
        {
            "cell_type": "markdown",
            "metadata": {},
            "source": "## Loading simulation information\nThe TEASER export creates a JSON file with information about the models\n"
        },
        {
            "cell_type": "code",
            "execution_count": null,
            "metadata": {},
            "outputs": [],
            "source": "import json\nfrom pathlib import Path  # For easier path handling\npath_export = Path(path_export)\nwith open(path_export.joinpath(\"simulation_information.json\"), \"r\") as file:\n    relevant_information = json.load(file)\nprint(relevant_information)\n"
        },
        {
            "cell_type": "markdown",
            "metadata": {},
            "source": "## Preparing simulation parameters\nExtract the IdealDemands models for each building and set up result file names\n"
        },
        {
            "cell_type": "code",
            "execution_count": null,
            "metadata": {},
            "outputs": [],
            "source": "models_to_simulate = [bui[\"IdealDemands\"] for bui in relevant_information[\"buildings\"].values()]\nresult_file_names = list(relevant_information[\"buildings\"].keys())\n"
        },
        {
            "cell_type": "markdown",
            "metadata": {},
            "source": "## Setting up simulation directory\nCreate a folder for simulation results next to the export folder\n"
        },
        {
            "cell_type": "code",
            "execution_count": null,
            "metadata": {},
            "outputs": [],
            "source": "save_path = path_export.parent.joinpath(path_export.name + \"_SimulationResults\")\n"
        },
        {
            "cell_type": "markdown",
            "metadata": {},
            "source": "## Handle AixLib dependency\nIf AixLib path is not provided, clone it from GitHub.\n"
        },
        {
            "cell_type": "code",
            "execution_count": null,
            "metadata": {},
            "outputs": [],
            "source": "path_aixlib = None  # If you have AixLib locally, set the path here.\n\nif path_aixlib is None:\n    import subprocess\n    import os\n\n    save_path.parent.mkdir(exist_ok=True)\n    aixlib_dir = save_path.parent.joinpath(\"AixLib\")\n    if not aixlib_dir.exists():\n        print(f\"Cloning AixLib repository to {aixlib_dir}...\")\n        subprocess.run(\n            [\"git\", \"clone\", \"https://github.com/RWTH-EBC/AixLib\", str(aixlib_dir)],\n            check=True\n        )\n    path_aixlib = aixlib_dir.joinpath(\"AixLib/package.mo\")\n    print(f\"Using AixLib from: {path_aixlib}\")\n"
        },
        {
            "cell_type": "markdown",
            "metadata": {},
            "source": "## Initialize Dymola API\nThis provides an interface to the Dymola simulation environment\nImport and initialize the API with simulation parameters and package paths\n"
        },
        {
            "cell_type": "code",
            "execution_count": null,
            "metadata": {},
            "outputs": [],
            "source": "from ebcpy import DymolaAPI\n\ndym_api = DymolaAPI(\n    working_directory=save_path.joinpath(\"DymolaWorkingDirectory\"),\n    model_name=None,  # Keep empty for now\n    packages=[path_aixlib, relevant_information[\"package_path\"]],\n    show_window=True,\n    equidistant_output=True,\n    n_cpu=2,  # Increase this number if you want to run more simulations in parallel.\n    time_delay_between_starts=1\n)\n"
        },
        {
            "cell_type": "markdown",
            "metadata": {},
            "source": "## Define simulation timeframe\nSet up the simulation period (120 days) and output interval (hourly)\n"
        },
        {
            "cell_type": "code",
            "execution_count": null,
            "metadata": {},
            "outputs": [],
            "source": "simulation_setup = {\n    \"start_time\": 0,\n    \"stop_time\": 86400 * 120,  # First 120 days\n    \"output_interval\": 3600\n}\ndym_api.set_sim_setup(sim_setup=simulation_setup)\n"
        },
        {
            "cell_type": "markdown",
            "metadata": {},
            "source": "## Run the simulations\nPerform the simulations and store results as .mat files\nUsing multiprocessing capabilities of ebcpy\n"
        },
        {
            "cell_type": "code",
            "execution_count": null,
            "metadata": {},
            "outputs": [],
            "source": "simulation_result_files = dym_api.simulate(\n    return_option=\"savepath\",\n    model_names=models_to_simulate,\n    savepath=save_path,\n    result_file_name=result_file_names\n)\n"
        },
        {
            "cell_type": "markdown",
            "metadata": {},
            "source": "## Save simulation settings for reproducibility\nOptionally, you can store all simulation parameters for later reference\nThis feature does not work in jupyter notebooks, as it saves the current script.\nStill, we highly encourage you to add it to your work locally, so\nthat you always know which settings were used to perform the simulations.\n"
        },
        {
            "cell_type": "markdown",
            "metadata": {},
            "source": "```python\ndym_api.save_for_reproduction(\n    title=relevant_information[\"project\"],\n    log_message=f\"Simulation study of TEASER project\",\n    export_fmu=False,\n)\n```\nAfterwards, we close Dymola:\n"
        },
        {
            "cell_type": "code",
            "execution_count": null,
            "metadata": {},
            "outputs": [],
            "source": "dym_api.close()\n"
        },
        {
            "cell_type": "markdown",
            "metadata": {},
            "source": "## Analyze each simulation result\nFor each building,\n- Load simulation data into a pandas DataFrame\n- convert results to parquet (more efficient than .mat for pandas operations) (Only supported with python >=3.9)\n- Remove original .mat file to save space\n- Plot outdoor temperature, zone temperatures, and heating power\n"
        },
        {
            "cell_type": "markdown",
            "metadata": {},
            "source": "Set variable_names_to_store to None to load all variables\n"
        },
        {
            "cell_type": "code",
            "execution_count": null,
            "metadata": {},
            "outputs": [],
            "source": "from ebcpy import TimeSeriesData\nvariable_names_to_store = [\n    \"multizone.PHeater[*]\",  # Wildcards store all zones\n    \"multizone.TAir[*]\",\n    \"weaDat.weaBus.TDryBul\"\n]\n\nfor mat_result_file in simulation_result_files:\n    df = TimeSeriesData(mat_result_file, variable_names=variable_names_to_store).to_df()\n    df_path = Path(mat_result_file).with_suffix(\".parquet\")\n    df.to_parquet(\n        df_path,\n        engine=\"fastparquet\",\n        compression=None,\n        index=True\n    )\n    import os\n    os.remove(mat_result_file)\n\n    import matplotlib.pyplot as plt\n    fig, ax = plt.subplots(3, 1, sharex=True)\n\n    df.index /= 86400  # Convert seconds to days for better readability\n\n    ax[0].set_ylabel(\"$T_\\mathrm{Oda}$ in °C\")\n    ax[0].plot(df.index, df.loc[:, \"weaDat.weaBus.TDryBul\"] - 273.15)\n    ax[1].set_ylabel(\"$T_\\mathrm{Zone}$ in °C\")\n    ax[2].set_ylabel(\"$P_\\mathrm{Hea}$ in kW\")\n\n    for col in df.columns:  # Plot each zone's temperature and heating power\n        if col.startswith(\"weaBus\"):\n            continue\n        zone_number = col.split(\"[\")[-1].split(\"]\")[0]\n        if col.startswith(\"multizone.TAir\"):\n            ax[1].plot(df.index, df.loc[:, col] - 273.15, label=f\"Zone {zone_number}\")\n        if col.startswith(\"multizone.PHeater\"):\n            ax[2].plot(df.index, df.loc[:, col] / 1000, label=f\"Zone {zone_number}\")\n    ax[1].legend()\n    ax[2].legend()\n    ax[2].set_xlabel(\"Time in d\")\n    fig.suptitle(df_path.stem)\n    fig.savefig(df_path.with_suffix(\".png\"))\nplt.show()\n"
        }
    ],
    "metadata": {
        "kernelspec": {
            "display_name": "Python 3",
            "language": "python",
            "name": "python3"
        },
        "language_info": {
            "codemirror_mode": {
                "name": "ipython",
                "version": 3
            },
            "file_extension": ".py",
            "mimetype": "text/x-python",
            "name": "python",
            "nbconvert_exporter": "python",
            "pygments_lexer": "ipython3",
            "version": "3.6.4"
        }
    },
    "nbformat": 4,
    "nbformat_minor": 2
}