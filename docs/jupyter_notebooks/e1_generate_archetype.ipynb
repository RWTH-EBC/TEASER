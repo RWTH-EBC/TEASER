{
    "cells": [
        {
            "cell_type": "markdown",
            "metadata": {},
            "source": "# Example 1: Generate archetype buildings using TEASER API\nThis module contains an example how to generate archetype buildings\nusing TEASER API functions.\nYou can run this example using the [jupyter-notebook](https://mybinder.org/v2/gh/RWTH-EBC/TEASER/master?labpath=docs%2Fjupyter_notebooks)\n"
        },
        {
            "cell_type": "markdown",
            "metadata": {},
            "source": "First step: Import the TEASER API (called Project) into your Python\nmodule\n"
        },
        {
            "cell_type": "code",
            "execution_count": null,
            "metadata": {},
            "outputs": [],
            "source": "from teaser.project import Project\n"
        },
        {
            "cell_type": "markdown",
            "metadata": {},
            "source": "To use the API, instantiate the Project class and rename the project.\nBe careful: Dymola does not like whitespaces in names and filenames, thus we will delete them anyway in TEASER.\n"
        },
        {
            "cell_type": "code",
            "execution_count": null,
            "metadata": {},
            "outputs": [],
            "source": "prj = Project()\nprj.name = \"ArchetypeExample\"\n"
        },
        {
            "cell_type": "markdown",
            "metadata": {},
            "source": "There are two different types of archetype groups: residential and\nnon-residential buildings. Two API functions offer the opportunity to\ngenerate specific archetypes.\n"
        },
        {
            "cell_type": "markdown",
            "metadata": {},
            "source": "To generate residential archetype buildings the function\nProject.add_residential() is used. Seven parameters are compulsory,\nadditional parameters can be set according to the used method. `construction_data`\nand `geometry_data` are used to distinguish between different construction and archetype\nmethods. The name, year_of_construction, number and height of floors\nand net_leased_area need to be set to provide enough information for\narchetype generation. For specific information on the parameters please\nread the docs.\n"
        },
        {
            "cell_type": "code",
            "execution_count": null,
            "metadata": {},
            "outputs": [],
            "source": "prj.add_residential(\n    construction_data='iwu_heavy',\n    geometry_data='iwu_single_family_dwelling',\n    name=\"ResidentialBuilding\",\n    year_of_construction=1988,\n    number_of_floors=2,\n    height_of_floors=3.2,\n    net_leased_area=200.0)\n"
        },
        {
            "cell_type": "markdown",
            "metadata": {},
            "source": "To generate non-residential archetype buildings (in this case an\noffice and a laboratory (a.k.a. institute)) the function\nProject.add_residential() is used. The meaning of compulsory parameters\ndoes not differ from the residential archetype building.\n"
        },
        {
            "cell_type": "code",
            "execution_count": null,
            "metadata": {},
            "outputs": [],
            "source": "prj.add_non_residential(\n    construction_data='iwu_heavy',\n    geometry_data='bmvbs_office',\n    name=\"OfficeBuilding\",\n    year_of_construction=1988,\n    number_of_floors=4,\n    height_of_floors=3.5,\n    net_leased_area=4500.0)\n\nprj.add_non_residential(\n    construction_data='iwu_heavy',\n    geometry_data='bmvbs_institute',\n    name=\"InstituteBuilding\",\n    year_of_construction=1952,\n    number_of_floors=5,\n    height_of_floors=4.0,\n    net_leased_area=3400.0)\n\nprj.add_non_residential(\n    construction_data='iwu_heavy',\n    geometry_data='bmvbs_institute',\n    name=\"InstituteBuildingMoisture\",\n    year_of_construction=1980,\n    number_of_floors=3,\n    height_of_floors=4.2,\n    net_leased_area=3600.0,\n    internal_gains_mode=3)\n"
        },
        {
            "cell_type": "markdown",
            "metadata": {},
            "source": "Besides `iwu` and `bmvbs` there is a third option for archetype\ngeneration. We integrated the typology of TABULA Germany\n(http://webtool.building-typology.eu/#bm) and other countries are about to\nfollow. To use TABULA archetype simple choose the default `tabula_de_standard` as the construction_data\nand `tabula_de_single_family_house`, `tabula_de_multi_family_house`, `tabula_de_terraced_house` or\n`tabula_de_apartment_block` as the geometry_data. In addition you can specify the\nconstruction type of TABULA, chose between `tabula_de_standard` (default),\n`tabula_de_retrofit` or `tabula_de_adv_retrofit`. In this case we generate one\nsingle and one multi family house with TABULA typology.\n"
        },
        {
            "cell_type": "markdown",
            "metadata": {},
            "source": "Please not: as we need to load the construction information which are\nrather big for TABULA, switching from one typology to another in the same\nProject takes some seconds. If you know from beginning you will only use\nTABULA typology you should instantiate you Project class without loading\ndata. Project(load_data=False).\n"
        },
        {
            "cell_type": "code",
            "execution_count": null,
            "metadata": {},
            "outputs": [],
            "source": "prj.add_residential(\n    construction_data='tabula_de_standard',\n    geometry_data='tabula_de_single_family_house',\n    name=\"ResidentialBuildingTabula\",\n    year_of_construction=1988,\n    number_of_floors=3,\n    height_of_floors=3.2,\n    net_leased_area=280.0)\n\nprj.add_residential(\n    construction_data='tabula_de_retrofit',\n    geometry_data='tabula_de_multi_family_house',\n    name=\"ResidentialBuildingTabulaMulti\",\n    year_of_construction=1960,\n    number_of_floors=4,\n    height_of_floors=3.2,\n    net_leased_area=600.0)\n"
        }
    ],
    "metadata": {
        "kernelspec": {
            "display_name": "Python 3",
            "language": "python",
            "name": "python3"
        },
        "language_info": {
            "codemirror_mode": {
                "name": "ipython",
                "version": 3
            },
            "file_extension": ".py",
            "mimetype": "text/x-python",
            "name": "python",
            "nbconvert_exporter": "python",
            "pygments_lexer": "ipython3",
            "version": "3.6.4"
        }
    },
    "nbformat": 4,
    "nbformat_minor": 2
}