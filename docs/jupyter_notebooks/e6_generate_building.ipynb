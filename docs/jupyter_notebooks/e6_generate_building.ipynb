{
    "cells": [
        {
            "cell_type": "markdown",
            "metadata": {},
            "source": "# Example 7: Generate single building\nThis module contains an example that shows to create a building not using\nthe archetype approach but adding all information separately. In this example\nwe import all needed modules and classes where we need it in the code. For you\napplication we suggest to use PEP008 and import them at the beginning of the\nscript.\nYou can run this example using the [jupyter-notebook](https://mybinder.org/v2/gh/RWTH-EBC/TEASER/main?labpath=docs%2Fjupyter_notebooks)\n"
        },
        {
            "cell_type": "markdown",
            "metadata": {},
            "source": "First step: Import the TEASER API (called Project) into your Python module\n"
        },
        {
            "cell_type": "code",
            "execution_count": null,
            "metadata": {},
            "outputs": [],
            "source": "from teaser.project import Project\nfrom teaser.data.utilities import ConstructionData\nfrom teaser.data.dataclass import DataClass\n"
        },
        {
            "cell_type": "markdown",
            "metadata": {},
            "source": "To use the API, instantiate the Project class and rename the project.\n"
        },
        {
            "cell_type": "code",
            "execution_count": null,
            "metadata": {},
            "outputs": [],
            "source": "prj = Project()\nprj.name = \"BuildingExample\"\nprj.data = DataClass(construction_data=ConstructionData.iwu_heavy)\n"
        },
        {
            "cell_type": "markdown",
            "metadata": {},
            "source": "Instantiate a Building class and set the Project API as a parent to\nthis building. This will automatically add this building and all its\nfuture changes to the project. This is helpful as we can use the data\nbase and API functions (like explained in e2 - e5). We also set some\nbuilding parameters. Be careful: Dymola does not like whitespaces in\nnames and filenames, thus we will delete them anyway in TEASER.\n"
        },
        {
            "cell_type": "code",
            "execution_count": null,
            "metadata": {},
            "outputs": [],
            "source": "from teaser.logic.buildingobjects.building import Building\n\nbldg = Building(parent=prj)\nbldg.name = \"SuperExampleBuilding\"\nbldg.street_name = \"AwesomeAvenue42\"\nbldg.city = \"46325FantasticTown\"\nbldg.year_of_construction = 2015\nbldg.number_of_floors = 1\nbldg.height_of_floors = 3.5\n"
        },
        {
            "cell_type": "markdown",
            "metadata": {},
            "source": "Instantiate a ThermalZone class and set the Building as a parent of it.\nSet some parameters of the thermal zone. Be careful: Dymola does not\nlike whitespaces in  names and filenames, thus we will delete them\nanyway in TEASER.\n"
        },
        {
            "cell_type": "code",
            "execution_count": null,
            "metadata": {},
            "outputs": [],
            "source": "from teaser.logic.buildingobjects.thermalzone import ThermalZone\n\ntz = ThermalZone(parent=bldg)\ntz.name = \"LivingRoom\"\ntz.area = 140.0\ntz.volume = tz.area * bldg.number_of_floors * bldg.height_of_floors\ntz.infiltration_rate = 0.5\n"
        },
        {
            "cell_type": "markdown",
            "metadata": {},
            "source": "Instantiate BoundaryConditions and load conditions for `Living`.\n"
        },
        {
            "cell_type": "code",
            "execution_count": null,
            "metadata": {},
            "outputs": [],
            "source": "from teaser.logic.buildingobjects.useconditions \\\n    import UseConditions\n\ntz.use_conditions = UseConditions(parent=tz)\ntz.use_conditions.load_use_conditions(\"Living\", prj.data)\n"
        },
        {
            "cell_type": "markdown",
            "metadata": {},
            "source": "Define two building elements reflecting a pitched roof (south = 180° and\nnorth = 0°). Setting the the ThermalZone as a parent will automatically\nassign this element to the thermal zone. We also set names, tilt and\ncoefficients for heat transfer on the inner and outer side of the\nroofs. If the building has a flat roof, please use -1 as\norientation. Please read the docs to get more information on these\nparameters.\n"
        },
        {
            "cell_type": "code",
            "execution_count": null,
            "metadata": {},
            "outputs": [],
            "source": "from teaser.logic.buildingobjects.buildingphysics.rooftop import Rooftop\n\nroof_south = Rooftop(parent=tz)\nroof_south.name = \"Roof_South\"\nroof_south.area = 75.0\nroof_south.orientation = 180.0\nroof_south.tilt = 55.0\nroof_south.inner_convection = 1.7\nroof_south.outer_convection = 20.0\nroof_south.inner_radiation = 5.0\nroof_south.outer_radiation = 5.0\n\nroof_north = Rooftop(parent=tz)\nroof_north.name = \"Roof_North\"\nroof_north.area = 75.0\nroof_north.orientation = 0.0\nroof_north.tilt = 55.0\nroof_north.inner_convection = 1.7\nroof_north.outer_convection = 20.0\nroof_north.inner_radiation = 5.0\nroof_north.outer_radiation = 5.0\n"
        },
        {
            "cell_type": "markdown",
            "metadata": {},
            "source": "To define the wall constructions we need to instantiate Layer and\nMaterial objects and set attributes. id indicates the order of wall\nconstruction from inside to outside (so 0 is on the inner surface). You\nneed to set this value!\n"
        },
        {
            "cell_type": "code",
            "execution_count": null,
            "metadata": {},
            "outputs": [],
            "source": "from teaser.logic.buildingobjects.buildingphysics.layer import Layer\n"
        },
        {
            "cell_type": "markdown",
            "metadata": {},
            "source": "First layer south\n"
        },
        {
            "cell_type": "code",
            "execution_count": null,
            "metadata": {},
            "outputs": [],
            "source": "layer_s1 = Layer(parent=roof_south, id=0)\nlayer_s1.thickness = 0.3\n\nfrom teaser.logic.buildingobjects.buildingphysics.material import Material\n\nmaterial_s1 = Material(layer_s1)\nmaterial_s1.name = \"Insulation\"\nmaterial_s1.density = 120.0\nmaterial_s1.heat_capac = 0.04\nmaterial_s1.thermal_conduc = 1.0\n"
        },
        {
            "cell_type": "markdown",
            "metadata": {},
            "source": "Second layer south\n"
        },
        {
            "cell_type": "code",
            "execution_count": null,
            "metadata": {},
            "outputs": [],
            "source": "layer_s2 = Layer(parent=roof_south, id=1)\nlayer_s2.thickness = 0.15\n\nmaterial_s2 = Material(layer_s2)\nmaterial_s2.name = \"Tile\"\nmaterial_s2.density = 1400.0\nmaterial_s2.heat_capac = 0.6\nmaterial_s2.thermal_conduc = 2.5\n"
        },
        {
            "cell_type": "markdown",
            "metadata": {},
            "source": "First layer north\n"
        },
        {
            "cell_type": "code",
            "execution_count": null,
            "metadata": {},
            "outputs": [],
            "source": "layer_n1 = Layer(parent=roof_north, id=0)\nlayer_n1.thickness = 0.3\n\nfrom teaser.logic.buildingobjects.buildingphysics.material import Material\n\nmaterial_n1 = Material(layer_n1)\nmaterial_n1.name = \"Insulation\"\nmaterial_n1.density = 120.0\nmaterial_n1.heat_capac = 0.04\nmaterial_n1.thermal_conduc = 1.0\n"
        },
        {
            "cell_type": "markdown",
            "metadata": {},
            "source": "Second layer north\n"
        },
        {
            "cell_type": "code",
            "execution_count": null,
            "metadata": {},
            "outputs": [],
            "source": "layer_n2 = Layer(parent=roof_north, id=1)\nlayer_n2.thickness = 0.15\n\nmaterial_n2 = Material(layer_n2)\nmaterial_n2.name = \"Tile\"\nmaterial_n2.density = 1400.0\nmaterial_n2.heat_capac = 0.6\nmaterial_n2.thermal_conduc = 2.5\n"
        },
        {
            "cell_type": "markdown",
            "metadata": {},
            "source": "Another option is to use the database for typical wall constructions,\nbut set area, tilt, orientation individually. To simplify code,\nwe save individual information for exterior walls, interior walls into\ndictionaries.\nouter walls\n{'name_of_wall': [area, tilt, orientation]}\ninterior walls\n{'name_of_wall': [area, tilt, orientation]}\n"
        },
        {
            "cell_type": "code",
            "execution_count": null,
            "metadata": {},
            "outputs": [],
            "source": "from teaser.logic.buildingobjects.buildingphysics.outerwall import OuterWall\n\nout_wall_dict = {\"OuterWall_north\": [10.0, 90.0, 0.0],\n                 \"OuterWall_east\": [14.0, 90.0, 90.0],\n                 \"OuterWall_south\": [10.0, 90.0, 180.0],\n                 \"OuterWall_west\": [14.0, 90.0, 270.0]}\n"
        },
        {
            "cell_type": "markdown",
            "metadata": {},
            "source": "For ground floors the orientation is always -2\n"
        },
        {
            "cell_type": "code",
            "execution_count": null,
            "metadata": {},
            "outputs": [],
            "source": "ground_floor_dict = {\"GroundFloor\": [100.0, 0.0, -2]}\n\nfrom teaser.logic.buildingobjects.buildingphysics.innerwall import InnerWall\n\nin_wall_dict = {\"InnerWall1\": [10.0],\n                \"InnerWall2\": [14.0],\n                \"InnerWall3\": [10.0]}\n\nfor key, value in out_wall_dict.items():\n    # Instantiate class, key is the name\n    out_wall = OuterWall(parent=tz)\n    out_wall.name = key\n    # Use load_type_element() function of the building element, and pass\n    # over the year of construction of the building and the type of\n    # construction (in this case `heavy`).\n\n    out_wall.load_type_element(\n        year=bldg.year_of_construction,\n        construction='iwu_heavy')\n\n    # area, tilt and orientation need to be set individually.\n\n    out_wall.area = value[0]\n    out_wall.tilt = value[1]\n    out_wall.orientation = value[2]\n"
        },
        {
            "cell_type": "markdown",
            "metadata": {},
            "source": "Repeat the procedure for inner walls and ground floors\n"
        },
        {
            "cell_type": "code",
            "execution_count": null,
            "metadata": {},
            "outputs": [],
            "source": "for key, value in in_wall_dict.items():\n\n    in_wall = InnerWall(parent=tz)\n    in_wall.name = key\n    in_wall.load_type_element(\n        year=bldg.year_of_construction,\n        construction='iwu_heavy')\n    in_wall.area = value[0]\n\nfrom teaser.logic.buildingobjects.buildingphysics.groundfloor import \\\n    GroundFloor\n\nfor key, value in ground_floor_dict.items():\n\n    ground = GroundFloor(parent=tz)\n    ground.name = key\n    ground.load_type_element(\n        year=bldg.year_of_construction,\n        construction='iwu_heavy')\n    ground.area = value[0]\n    ground.tilt = value[1]\n    ground.orientation = value[2]\n\nfrom teaser.logic.buildingobjects.buildingphysics.window import Window\n\nwin_dict = {\"Window_east\": [5.0, 90.0, 90.0],\n            \"Window_south\": [8.0, 90.0, 180.0],\n            \"Window_west\": [5.0, 90.0, 270.0]}\n\nfor key, value in win_dict.items():\n\n    win = Window(parent=tz)\n    win.name = key\n    win.area = value[0]\n    win.tilt = value[1]\n    win.orientation = value[2]\n\n    # Additional to the already known attributes the window has\n    # additional attributes. Window.g_value describes the solar gain\n    # through windows, a_conv the convective heat transmission due to\n    # absorption of the window on the inner side. shading_g_total and\n    # shading_max_irr refers to the shading (solar gain reduction of the\n    # shading and shading_max_irr the threshold of irradiance to\n    # automatically apply shading).\n\n    win.inner_convection = 1.7\n    win.inner_radiation = 5.0\n    win.outer_convection = 20.0\n    win.outer_radiation = 5.0\n    win.g_value = 0.789\n    win.a_conv = 0.03\n    win.shading_g_total = 0.0\n    win.shading_max_irr = 180.0\n\n    # One equivalent layer for windows\n\n    win_layer = Layer(parent=win)\n    win_layer.id = 1\n    win_layer.thickness = 0.024\n\n    # Material for glass\n\n    win_material = Material(win_layer)\n    win_material.name = \"GlasWindow\"\n    win_material.thermal_conduc = 0.067\n    win_material.transmittance = 0.9\n"
        }
    ],
    "metadata": {
        "kernelspec": {
            "display_name": "Python 3",
            "language": "python",
            "name": "python3"
        },
        "language_info": {
            "codemirror_mode": {
                "name": "ipython",
                "version": 3
            },
            "file_extension": ".py",
            "mimetype": "text/x-python",
            "name": "python",
            "nbconvert_exporter": "python",
            "pygments_lexer": "ipython3",
            "version": "3.6.4"
        }
    },
    "nbformat": 4,
    "nbformat_minor": 2
}