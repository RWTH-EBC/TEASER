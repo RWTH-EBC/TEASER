{
    "cells": [
        {
            "cell_type": "markdown",
            "metadata": {},
            "source": "# Example 5: Load information\nThis module contains an example how to import TEASER projects from\n`*.teaserjson` and pickle in order to reuse data.\nYou can run this example using the [jupyter-notebook](https://mybinder.org/v2/gh/RWTH-EBC/TEASER/main?labpath=docs%2Fjupyter_notebooks)\n"
        },
        {
            "cell_type": "code",
            "execution_count": null,
            "metadata": {},
            "outputs": [],
            "source": "import teaser.logic.utilities as utilities\nimport os\n"
        },
        {
            "cell_type": "markdown",
            "metadata": {},
            "source": "In example e4_save we saved two TEASER projects using `*.teaserjson` and\nPython package pickle. This example shows how to import these\ninformation into your python environment again.\n"
        },
        {
            "cell_type": "markdown",
            "metadata": {},
            "source": "To load data from `*.teaserjson` we can use a simple API function. So\nfirst we need to instantiate our API (similar to example\ne1_generate_archetype). The json file is called\n`ArchetypeExample.teaserjson` and saved in the default path. You need to\nrun e4 first before you can load this example file.\n"
        },
        {
            "cell_type": "code",
            "execution_count": null,
            "metadata": {},
            "outputs": [],
            "source": "from teaser.project import Project\n\nprj = Project()\n\nload_json = os.path.join(utilities.get_default_path(), \"ArchetypeExample.json\")\n\nprj.load_project(path=load_json)\n\nprj = Project()\nprj.load_project(utilities.get_full_path(\"examples/examplefiles/unitTest.json\"))\nprj.save_project(file_name=\"unitTest\", path=None)\n"
        },
        {
            "cell_type": "markdown",
            "metadata": {},
            "source": "To reload data from a pickle file, we do not need to instantiate an\nAPI, as pickle will automatically instantiate all classes as they have\nbeen saved. The saved file from example e4 is called ´teaser_pickle.p´\n"
        },
        {
            "cell_type": "code",
            "execution_count": null,
            "metadata": {},
            "outputs": [],
            "source": "import pickle\n\nload_pickle = os.path.join(utilities.get_default_path(), \"teaser_pickle.p\")\n\npickle_prj = pickle.load(open(load_pickle, \"rb\"))\nprint(pickle_prj)\n"
        },
        {
            "cell_type": "markdown",
            "metadata": {},
            "source": "After you imported your teaser project one or another way into you\npython environment you can access variables and functions.\n"
        }
    ],
    "metadata": {
        "kernelspec": {
            "display_name": "Python 3",
            "language": "python",
            "name": "python3"
        },
        "language_info": {
            "codemirror_mode": {
                "name": "ipython",
                "version": 3
            },
            "file_extension": ".py",
            "mimetype": "text/x-python",
            "name": "python",
            "nbconvert_exporter": "python",
            "pygments_lexer": "ipython3",
            "version": "3.6.4"
        }
    },
    "nbformat": 4,
    "nbformat_minor": 2
}